{
  "nbformat": 4,
  "nbformat_minor": 0,
  "metadata": {
    "colab": {
      "provenance": [],
      "authorship_tag": "ABX9TyPJVNfXte0Oo8r60yr/ZzCP",
      "include_colab_link": true
    },
    "kernelspec": {
      "name": "python3",
      "display_name": "Python 3"
    },
    "language_info": {
      "name": "python"
    }
  },
  "cells": [
    {
      "cell_type": "markdown",
      "metadata": {
        "id": "view-in-github",
        "colab_type": "text"
      },
      "source": [
        "<a href=\"https://colab.research.google.com/github/kemeni23/Urban-Tree-Management-and-Irrigation-Optimization/blob/main/wetterstation_uni.ipynb\" target=\"_parent\"><img src=\"https://colab.research.google.com/assets/colab-badge.svg\" alt=\"Open In Colab\"/></a>"
      ]
    },
    {
      "cell_type": "code",
      "execution_count": null,
      "metadata": {
        "colab": {
          "base_uri": "https://localhost:8080/"
        },
        "id": "ZPHCIKAex9A0",
        "outputId": "e0dbf84c-d146-4359-dd11-29e7718c372c"
      },
      "outputs": [
        {
          "output_type": "stream",
          "name": "stdout",
          "text": [
            "Mounted at /content/drive/\n"
          ]
        }
      ],
      "source": [
        "from google.colab import drive\n",
        "drive.mount('/content/drive/')"
      ]
    },
    {
      "cell_type": "code",
      "source": [
        "%cd /content/drive/My Drive/techlabs data/wetterstationen/Universitaet"
      ],
      "metadata": {
        "colab": {
          "base_uri": "https://localhost:8080/"
        },
        "id": "O-lGpyGbyMUA",
        "outputId": "19f02519-cd3b-4805-eb92-7f8ae1eb861f"
      },
      "execution_count": null,
      "outputs": [
        {
          "output_type": "stream",
          "name": "stdout",
          "text": [
            "/content/drive/My Drive/techlabs data/wetterstationen/Universitaet\n"
          ]
        }
      ]
    },
    {
      "cell_type": "code",
      "source": [
        "import pandas as pd\n",
        "import glob\n",
        "import os\n",
        "import numpy as np"
      ],
      "metadata": {
        "id": "hYcDEqdXy5F_"
      },
      "execution_count": null,
      "outputs": []
    },
    {
      "cell_type": "code",
      "source": [
        "# reading the .csv files\n",
        "\n",
        "df1 = pd.read_csv('/content/drive/My Drive/techlabs data/wetterstationen/Universitaet/Universität_Wetter_2012.csv', sep=';', decimal=\",\")\n",
        "df2 = pd.read_csv('/content/drive/My Drive/techlabs data/wetterstationen/Universitaet/Universität_Wetter_2013.csv', sep=';', decimal=\",\")\n",
        "df3 = pd.read_csv('/content/drive/My Drive/techlabs data/wetterstationen/Universitaet/Universität_Wetter_2014.csv', sep=';', decimal=\",\")\n",
        "df4 = pd.read_csv('/content/drive/My Drive/techlabs data/wetterstationen/Universitaet/Universität_Wetter_2015.csv', sep=';', decimal=\",\")\n",
        "df5 = pd.read_csv('/content/drive/My Drive/techlabs data/wetterstationen/Universitaet/Universität_Wetter_2016.csv', sep=';', decimal=\",\")\n",
        "df6 = pd.read_csv('/content/drive/My Drive/techlabs data/wetterstationen/Universitaet/Universität_Wetter_2017.csv', sep=';', decimal=\",\")\n",
        "df7 = pd.read_csv('/content/drive/My Drive/techlabs data/wetterstationen/Universitaet/Universität_Wetter_2018.csv', sep=';', decimal=\",\")\n",
        "df8 = pd.read_csv('/content/drive/My Drive/techlabs data/wetterstationen/Universitaet/Universität_Wetter_2019.csv', sep=';', decimal=\",\")\n",
        "df9 = pd.read_csv('/content/drive/My Drive/techlabs data/wetterstationen/Universitaet/Universität_Wetter_2020.csv', sep=';', decimal=\",\")"
      ],
      "metadata": {
        "id": "THTRdZcJyRnc"
      },
      "execution_count": null,
      "outputs": []
    },
    {
      "cell_type": "code",
      "source": [
        "# concatenating the .scv files\n",
        "\n",
        "df_Uni = pd.concat((df1, df2, df3, df4, df5, df6, df7, df8, df9), ignore_index=True)"
      ],
      "metadata": {
        "id": "ijuTJLHky7jn"
      },
      "execution_count": null,
      "outputs": []
    },
    {
      "cell_type": "code",
      "source": [
        "print(df_Uni)"
      ],
      "metadata": {
        "colab": {
          "base_uri": "https://localhost:8080/"
        },
        "id": "tcPZpp5pranJ",
        "outputId": "be992510-c185-4bef-94ae-7bf73d4fd365"
      },
      "execution_count": null,
      "outputs": [
        {
          "output_type": "stream",
          "name": "stdout",
          "text": [
            "           Datum  Tmin Tmit Tmax Sges Rges  Tbod  RFmin  RFmit  RFmax Wmit  \\\n",
            "0     01.01.2012   NaN  NaN  NaN  NaN  NaN   NaN    NaN    NaN    NaN  NaN   \n",
            "1     02.01.2012   NaN  NaN  NaN  NaN  NaN   NaN    NaN    NaN    NaN  NaN   \n",
            "2     03.01.2012   NaN  NaN  NaN  NaN  NaN   NaN    NaN    NaN    NaN  NaN   \n",
            "3     04.01.2012   NaN  NaN  NaN  NaN  NaN   NaN    NaN    NaN    NaN  NaN   \n",
            "4     05.01.2012   NaN  NaN  NaN  NaN  NaN   NaN    NaN    NaN    NaN  NaN   \n",
            "...          ...   ...  ...  ...  ...  ...   ...    ...    ...    ...  ...   \n",
            "3283  27.12.2020   3,9  4.6  5,8    0  6,5   3.2   75.0   82.5   91.0   25   \n",
            "3284  28.12.2020   1,5  4.1  5,8  2,3  0,6  -0.4   81.0   91.6  100.0    9   \n",
            "3285  29.12.2020  -2,1  1.7    5  0,1    0  -3.8   82.0   93.4  100.0    6   \n",
            "3286  30.12.2020     0  3.2  4,9    0  2,8  -2.1   84.0   92.6  100.0    8   \n",
            "3287  31.12.2020   1,4  2.5  3,8    0  2,7   0.5   88.0   98.5  100.0    8   \n",
            "\n",
            "     WBmax  \n",
            "0      NaN  \n",
            "1      NaN  \n",
            "2      NaN  \n",
            "3      NaN  \n",
            "4      NaN  \n",
            "...    ...  \n",
            "3283    76  \n",
            "3284    31  \n",
            "3285    33  \n",
            "3286    30  \n",
            "3287    26  \n",
            "\n",
            "[3288 rows x 12 columns]\n"
          ]
        }
      ]
    },
    {
      "cell_type": "code",
      "source": [
        "# dropping unnecessary columns\n",
        "\n",
        "df_Uni.drop(['Tmin', 'Tmax', 'Tbod', 'RFmin', 'RFmit', 'RFmax', 'Wmit', 'WBmax'], axis=1, inplace=True)"
      ],
      "metadata": {
        "id": "dxapyxKmzJme"
      },
      "execution_count": null,
      "outputs": []
    },
    {
      "cell_type": "code",
      "source": [
        "print(df_Uni)"
      ],
      "metadata": {
        "colab": {
          "base_uri": "https://localhost:8080/"
        },
        "id": "lb4CAxBizPp7",
        "outputId": "01740cb3-1bec-4474-9a62-aa9450dec124"
      },
      "execution_count": null,
      "outputs": [
        {
          "output_type": "stream",
          "name": "stdout",
          "text": [
            "           Datum Tmit Sges Rges\n",
            "0     01.01.2012  NaN  NaN  NaN\n",
            "1     02.01.2012  NaN  NaN  NaN\n",
            "2     03.01.2012  NaN  NaN  NaN\n",
            "3     04.01.2012  NaN  NaN  NaN\n",
            "4     05.01.2012  NaN  NaN  NaN\n",
            "...          ...  ...  ...  ...\n",
            "3283  27.12.2020  4.6    0  6,5\n",
            "3284  28.12.2020  4.1  2,3  0,6\n",
            "3285  29.12.2020  1.7  0,1    0\n",
            "3286  30.12.2020  3.2    0  2,8\n",
            "3287  31.12.2020  2.5    0  2,7\n",
            "\n",
            "[3288 rows x 4 columns]\n"
          ]
        }
      ]
    },
    {
      "cell_type": "code",
      "source": [
        "# renaming columns\n",
        "\n",
        "df_Uni = df_Uni.rename(columns = {'Datum' : 'Datum', 'Tmit' :'Tmit_Uni',\n",
        "'Sges' : 'Sges_Uni', 'Rges' : 'Rges_Uni',})"
      ],
      "metadata": {
        "id": "FgCvUzCErvdU"
      },
      "execution_count": null,
      "outputs": []
    },
    {
      "cell_type": "code",
      "source": [
        "# checking dtypes\n",
        "\n",
        "print (df_Uni.dtypes)"
      ],
      "metadata": {
        "colab": {
          "base_uri": "https://localhost:8080/"
        },
        "id": "nHUQOd3ir6OM",
        "outputId": "c1dae78f-3214-4f87-e8fa-acb09979249b"
      },
      "execution_count": null,
      "outputs": [
        {
          "output_type": "stream",
          "name": "stdout",
          "text": [
            "Datum       object\n",
            "Tmit_Uni    object\n",
            "Sges_Uni    object\n",
            "Rges_Uni    object\n",
            "dtype: object\n"
          ]
        }
      ]
    },
    {
      "cell_type": "code",
      "source": [
        "# converting objects to floats\n",
        "\n",
        "df_Uni['Tmit_Uni'] = pd.to_numeric(df_Uni['Tmit_Uni'], errors='coerce')\n",
        "df_Uni['Sges_Uni'] = pd.to_numeric(df_Uni['Sges_Uni'], errors='coerce')\n",
        "df_Uni['Rges_Uni'] = pd.to_numeric(df_Uni['Rges_Uni'], errors='coerce')"
      ],
      "metadata": {
        "id": "iuDzRMBpr_pT"
      },
      "execution_count": null,
      "outputs": []
    },
    {
      "cell_type": "code",
      "source": [
        "# checking dtypes again\n",
        "\n",
        "print (df_Uni.dtypes)"
      ],
      "metadata": {
        "colab": {
          "base_uri": "https://localhost:8080/"
        },
        "id": "Z_sxjmdRsRfZ",
        "outputId": "68574857-975b-4b38-ccb5-20d94bb10050"
      },
      "execution_count": null,
      "outputs": [
        {
          "output_type": "stream",
          "name": "stdout",
          "text": [
            "Datum        object\n",
            "Tmit_Uni    float64\n",
            "Sges_Uni    float64\n",
            "Rges_Uni    float64\n",
            "dtype: object\n"
          ]
        }
      ]
    },
    {
      "cell_type": "code",
      "source": [
        "# calculating monthly averages\n",
        "\n",
        "df_Uni = df_Uni.groupby(pd.PeriodIndex(df_Uni['Datum'], freq=\"M\"))['Tmit_Uni','Sges_Uni','Rges_Uni'].mean()"
      ],
      "metadata": {
        "colab": {
          "base_uri": "https://localhost:8080/"
        },
        "id": "zkHjvAYPskAj",
        "outputId": "507dae7c-92af-4f82-decd-b2f6896e8486"
      },
      "execution_count": null,
      "outputs": [
        {
          "output_type": "stream",
          "name": "stderr",
          "text": [
            "<ipython-input-27-04af8a43a034>:3: UserWarning: Parsing dates in DD/MM/YYYY format when dayfirst=False (the default) was specified. This may lead to inconsistently parsed dates! Specify a format to ensure consistent parsing.\n",
            "  df_Uni = df_Uni.groupby(pd.PeriodIndex(df_Uni['Datum'], freq=\"M\"))['Tmit_Uni','Sges_Uni','Rges_Uni'].mean()\n",
            "<ipython-input-27-04af8a43a034>:3: FutureWarning: Indexing with multiple keys (implicitly converted to a tuple of keys) will be deprecated, use a list instead.\n",
            "  df_Uni = df_Uni.groupby(pd.PeriodIndex(df_Uni['Datum'], freq=\"M\"))['Tmit_Uni','Sges_Uni','Rges_Uni'].mean()\n"
          ]
        }
      ]
    },
    {
      "cell_type": "code",
      "source": [
        "print(df_Uni)"
      ],
      "metadata": {
        "colab": {
          "base_uri": "https://localhost:8080/"
        },
        "id": "KchXTkNDs9Ft",
        "outputId": "d40a97ad-7aca-4f3c-d129-ed608d5800c0"
      },
      "execution_count": null,
      "outputs": [
        {
          "output_type": "stream",
          "name": "stdout",
          "text": [
            "          Tmit_Uni  Sges_Uni  Rges_Uni\n",
            "Datum                                 \n",
            "2012-01  12.155556      0.00  0.000000\n",
            "2012-02  12.211111       NaN  0.000000\n",
            "2012-03  12.122222      2.25  1.000000\n",
            "2012-04  11.048148      4.00  0.000000\n",
            "2012-05  14.907143      4.25  0.000000\n",
            "...            ...       ...       ...\n",
            "2020-08  17.158065      0.00       NaN\n",
            "2020-09  14.953333       NaN  0.000000\n",
            "2020-10  11.867742       NaN  0.000000\n",
            "2020-11   9.070000      0.00  1.000000\n",
            "2020-12   8.725806      0.10  0.777778\n",
            "\n",
            "[108 rows x 3 columns]\n"
          ]
        }
      ]
    },
    {
      "cell_type": "code",
      "source": [
        "# adding coordinates\n",
        "\n",
        "df_Uni[\"Latitude\"] = 51.19\n",
        "df_Uni[\"Longitude\"] = 6.80"
      ],
      "metadata": {
        "id": "vy6vk4hRtujf"
      },
      "execution_count": null,
      "outputs": []
    },
    {
      "cell_type": "code",
      "source": [
        "print(df_Uni)"
      ],
      "metadata": {
        "colab": {
          "base_uri": "https://localhost:8080/"
        },
        "id": "erTCswDzt4NO",
        "outputId": "7421bef8-c7de-46ef-ad7f-4267a1eb13fc"
      },
      "execution_count": null,
      "outputs": [
        {
          "output_type": "stream",
          "name": "stdout",
          "text": [
            "          Tmit_Uni  Sges_Uni  Rges_Uni  Latitude  Longitude\n",
            "Datum                                                      \n",
            "2012-01  12.155556      0.00  0.000000     51.19        6.8\n",
            "2012-02  12.211111       NaN  0.000000     51.19        6.8\n",
            "2012-03  12.122222      2.25  1.000000     51.19        6.8\n",
            "2012-04  11.048148      4.00  0.000000     51.19        6.8\n",
            "2012-05  14.907143      4.25  0.000000     51.19        6.8\n",
            "...            ...       ...       ...       ...        ...\n",
            "2020-08  17.158065      0.00       NaN     51.19        6.8\n",
            "2020-09  14.953333       NaN  0.000000     51.19        6.8\n",
            "2020-10  11.867742       NaN  0.000000     51.19        6.8\n",
            "2020-11   9.070000      0.00  1.000000     51.19        6.8\n",
            "2020-12   8.725806      0.10  0.777778     51.19        6.8\n",
            "\n",
            "[108 rows x 5 columns]\n"
          ]
        }
      ]
    },
    {
      "cell_type": "code",
      "source": [
        "df_Uni.to_csv('df_Uni.csv', sep=',', index=True, encoding='utf-8')"
      ],
      "metadata": {
        "id": "8IdfVTu2zV9z"
      },
      "execution_count": null,
      "outputs": []
    }
  ]
}