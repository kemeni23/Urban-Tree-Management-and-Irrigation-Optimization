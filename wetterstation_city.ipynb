{
  "nbformat": 4,
  "nbformat_minor": 0,
  "metadata": {
    "colab": {
      "provenance": [],
      "authorship_tag": "ABX9TyMMQXKfwRQ5NTap85/iXJlm",
      "include_colab_link": true
    },
    "kernelspec": {
      "name": "python3",
      "display_name": "Python 3"
    },
    "language_info": {
      "name": "python"
    }
  },
  "cells": [
    {
      "cell_type": "markdown",
      "metadata": {
        "id": "view-in-github",
        "colab_type": "text"
      },
      "source": [
        "<a href=\"https://colab.research.google.com/github/kemeni23/Urban-Tree-Management-and-Irrigation-Optimization/blob/main/wetterstation_city.ipynb\" target=\"_parent\"><img src=\"https://colab.research.google.com/assets/colab-badge.svg\" alt=\"Open In Colab\"/></a>"
      ]
    },
    {
      "cell_type": "code",
      "execution_count": null,
      "metadata": {
        "colab": {
          "base_uri": "https://localhost:8080/"
        },
        "id": "kDSf2od_ffrJ",
        "outputId": "4adbe065-adcb-46df-d59d-964ea19be91a"
      },
      "outputs": [
        {
          "output_type": "stream",
          "name": "stdout",
          "text": [
            "Mounted at /content/drive/\n"
          ]
        }
      ],
      "source": [
        "from google.colab import drive\n",
        "drive.mount('/content/drive/')"
      ]
    },
    {
      "cell_type": "code",
      "source": [
        "%cd /content/drive/My Drive/techlabs data/wetterstationen/City"
      ],
      "metadata": {
        "id": "reWPiv8afvlE",
        "colab": {
          "base_uri": "https://localhost:8080/"
        },
        "outputId": "4f076c53-c5de-46fd-f8c9-7dfa3767d0d8"
      },
      "execution_count": null,
      "outputs": [
        {
          "output_type": "stream",
          "name": "stdout",
          "text": [
            "/content/drive/My Drive/techlabs data/wetterstationen/City\n"
          ]
        }
      ]
    },
    {
      "cell_type": "code",
      "source": [
        "import pandas as pd\n",
        "import glob\n",
        "import os\n",
        "import numpy as np"
      ],
      "metadata": {
        "id": "4qarSO5-fybD"
      },
      "execution_count": null,
      "outputs": []
    },
    {
      "cell_type": "code",
      "source": [
        "# reading the .csv files\n",
        "\n",
        "df1 = pd.read_csv('/content/drive/My Drive/techlabs data/wetterstationen/City/City_Wetter_2012.csv', sep=';', decimal=\",\")\n",
        "df2 = pd.read_csv('/content/drive/My Drive/techlabs data/wetterstationen/City/City_Wetter_2013.csv', sep=';', decimal=\",\")\n",
        "df3 = pd.read_csv('/content/drive/My Drive/techlabs data/wetterstationen/City/City_Wetter_2014.csv', sep=';', decimal=\",\")\n",
        "df4 = pd.read_csv('/content/drive/My Drive/techlabs data/wetterstationen/City/City_Wetter_2015.csv', sep=';', decimal=\",\")\n",
        "df5 = pd.read_csv('/content/drive/My Drive/techlabs data/wetterstationen/City/City_Wetter_2016.csv', sep=';', decimal=\",\")\n",
        "df6 = pd.read_csv('/content/drive/My Drive/techlabs data/wetterstationen/City/City_Wetter_2017.csv', sep=';', decimal=\",\")\n",
        "df7 = pd.read_csv('/content/drive/My Drive/techlabs data/wetterstationen/City/City_Wetter_2018.csv', sep=';', decimal=\",\")\n",
        "df8 = pd.read_csv('/content/drive/My Drive/techlabs data/wetterstationen/City/City_Wetter_2019.csv', sep=';', decimal=\",\")\n",
        "df9 = pd.read_csv('/content/drive/My Drive/techlabs data/wetterstationen/City/City_Wetter_2020.csv', sep=';', decimal=\",\")"
      ],
      "metadata": {
        "id": "IYZDBkd2nUCN"
      },
      "execution_count": null,
      "outputs": []
    },
    {
      "cell_type": "code",
      "source": [
        "# concatenating the .scv files\n",
        "\n",
        "df_City = pd.concat((df1, df2, df3, df4, df5, df6, df7, df8, df9), ignore_index=True)"
      ],
      "metadata": {
        "id": "kFOIvTY7nd75"
      },
      "execution_count": null,
      "outputs": []
    },
    {
      "cell_type": "code",
      "source": [
        "print(df_City)"
      ],
      "metadata": {
        "colab": {
          "base_uri": "https://localhost:8080/"
        },
        "id": "kB5bM7MsovYO",
        "outputId": "87395ed8-645b-4337-8faf-74ff7f4bf27f"
      },
      "execution_count": null,
      "outputs": [
        {
          "output_type": "stream",
          "name": "stdout",
          "text": [
            "           Datum  Tmin  Tmit  Tmax Sges  Rges Tbod  RFmin  RFmit  RFmax  Wmit  \\\n",
            "0     01.01.2012  10.4  12.1  14.7  0.0   5.7  9.9   77.0   94.2  100.0    15   \n",
            "1     02.01.2012   5.0   8.3  14.6  0.0   3.0  3.4   77.0   88.6   97.0    14   \n",
            "2     03.01.2012   4.8   8.2  12.4  0.0   2.8  2.8   68.0   78.3   92.0    22   \n",
            "3     04.01.2012   5.6   6.8   7.7  0.7   5.7  4.3   69.0   76.4   90.0    23   \n",
            "4     05.01.2012   3.3   7.0   9.2  0.5  17.4  2.1   64.0   84.7   97.0    26   \n",
            "...          ...   ...   ...   ...  ...   ...  ...    ...    ...    ...   ...   \n",
            "3003  27.12.2020   4.3   4.9   5.8  0.0   9.3  3.1   73.0   79.7   89.0    20   \n",
            "3004  28.12.2020   2.5   4.4   6.0  2.5   0.6 -0.5   78.0   88.1   96.0    10   \n",
            "3005  29.12.2020   0.0   2.9   5.1  0.1   0.0 -3.8   78.0   88.0   99.0    10   \n",
            "3006  30.12.2020   2.9   4.2   5.2  0.0   3.4 -0.1   79.0   86.3   92.0    12   \n",
            "3007  31.12.2020   2.3   3.0   4.5  0.0   2.4  1.0   82.0   94.3   98.0     9   \n",
            "\n",
            "     WBmax  \n",
            "0       59  \n",
            "1       67  \n",
            "2       87  \n",
            "3       74  \n",
            "4       81  \n",
            "...    ...  \n",
            "3003    67  \n",
            "3004    35  \n",
            "3005    37  \n",
            "3006    35  \n",
            "3007    33  \n",
            "\n",
            "[3008 rows x 12 columns]\n"
          ]
        }
      ]
    },
    {
      "cell_type": "code",
      "source": [
        "# dropping unnecessary columns\n",
        "\n",
        "df_City.drop(['Tmin', 'Tmax', 'Tbod', 'RFmin', 'RFmit', 'RFmax', 'Wmit', 'WBmax'], axis=1, inplace=True)"
      ],
      "metadata": {
        "id": "Vv6n1U64o8Pd"
      },
      "execution_count": null,
      "outputs": []
    },
    {
      "cell_type": "code",
      "source": [
        "print(df_City)"
      ],
      "metadata": {
        "colab": {
          "base_uri": "https://localhost:8080/"
        },
        "id": "55iDJhbKuNtw",
        "outputId": "80a4a56e-55e8-42ec-8118-5cfa87c1b269"
      },
      "execution_count": null,
      "outputs": [
        {
          "output_type": "stream",
          "name": "stdout",
          "text": [
            "           Datum  Tmit Sges  Rges\n",
            "0     01.01.2012  12.1  0.0   5.7\n",
            "1     02.01.2012   8.3  0.0   3.0\n",
            "2     03.01.2012   8.2  0.0   2.8\n",
            "3     04.01.2012   6.8  0.7   5.7\n",
            "4     05.01.2012   7.0  0.5  17.4\n",
            "...          ...   ...  ...   ...\n",
            "3003  27.12.2020   4.9  0.0   9.3\n",
            "3004  28.12.2020   4.4  2.5   0.6\n",
            "3005  29.12.2020   2.9  0.1   0.0\n",
            "3006  30.12.2020   4.2  0.0   3.4\n",
            "3007  31.12.2020   3.0  0.0   2.4\n",
            "\n",
            "[3008 rows x 4 columns]\n"
          ]
        }
      ]
    },
    {
      "cell_type": "code",
      "source": [
        "# renaming columns\n",
        "\n",
        "df_City = df_City.rename(columns = {'Datum' : 'Datum', 'Tmit' :'Tmit_City',\n",
        "'Sges' : 'Sges_City', 'Rges' : 'Rges_City',})"
      ],
      "metadata": {
        "id": "cIHC3ll5cGSl"
      },
      "execution_count": null,
      "outputs": []
    },
    {
      "cell_type": "code",
      "source": [
        "# checking dtypes\n",
        "\n",
        "print (df_City.dtypes)"
      ],
      "metadata": {
        "colab": {
          "base_uri": "https://localhost:8080/"
        },
        "id": "9W3-FXiqcU8a",
        "outputId": "d310a10c-7030-4e74-e22d-67cb7b83eaef"
      },
      "execution_count": null,
      "outputs": [
        {
          "output_type": "stream",
          "name": "stdout",
          "text": [
            "Datum         object\n",
            "Tmit_City    float64\n",
            "Sges_City     object\n",
            "Rges_City     object\n",
            "dtype: object\n"
          ]
        }
      ]
    },
    {
      "cell_type": "code",
      "source": [
        "# converting objects to floats\n",
        "\n",
        "df_City['Sges_City'] = pd.to_numeric(df_City['Sges_City'], errors='coerce')\n",
        "df_City['Rges_City'] = pd.to_numeric(df_City['Rges_City'], errors='coerce')"
      ],
      "metadata": {
        "id": "bkSumpdBc2_y"
      },
      "execution_count": null,
      "outputs": []
    },
    {
      "cell_type": "code",
      "source": [
        "# checking dtypes again\n",
        "\n",
        "print (df_City.dtypes)"
      ],
      "metadata": {
        "colab": {
          "base_uri": "https://localhost:8080/"
        },
        "id": "NxGgpN9wf7X5",
        "outputId": "b941599f-b321-4fde-d4e6-9dae53ecd162"
      },
      "execution_count": null,
      "outputs": [
        {
          "output_type": "stream",
          "name": "stdout",
          "text": [
            "Datum         object\n",
            "Tmit_City    float64\n",
            "Sges_City    float64\n",
            "Rges_City    float64\n",
            "dtype: object\n"
          ]
        }
      ]
    },
    {
      "cell_type": "code",
      "source": [
        "# calculating monthly averages\n",
        "\n",
        "df_City = df_City.groupby(pd.PeriodIndex(df_City['Datum'], freq=\"M\"))['Tmit_City','Sges_City','Rges_City'].mean()"
      ],
      "metadata": {
        "colab": {
          "base_uri": "https://localhost:8080/"
        },
        "id": "jGLvrmGdnM2J",
        "outputId": "1fc2e629-220c-40a1-f8ad-6e52bf514e09"
      },
      "execution_count": null,
      "outputs": [
        {
          "output_type": "stream",
          "name": "stderr",
          "text": [
            "<ipython-input-16-debd9e38d907>:3: UserWarning: Parsing dates in DD/MM/YYYY format when dayfirst=False (the default) was specified. This may lead to inconsistently parsed dates! Specify a format to ensure consistent parsing.\n",
            "  df_City = df_City.groupby(pd.PeriodIndex(df_City['Datum'], freq=\"M\"))['Tmit_City','Sges_City','Rges_City'].mean()\n",
            "<ipython-input-16-debd9e38d907>:3: FutureWarning: Indexing with multiple keys (implicitly converted to a tuple of keys) will be deprecated, use a list instead.\n",
            "  df_City = df_City.groupby(pd.PeriodIndex(df_City['Datum'], freq=\"M\"))['Tmit_City','Sges_City','Rges_City'].mean()\n"
          ]
        }
      ]
    },
    {
      "cell_type": "code",
      "source": [
        "print(df_City)"
      ],
      "metadata": {
        "colab": {
          "base_uri": "https://localhost:8080/"
        },
        "id": "h5a0BXoUnkES",
        "outputId": "9189d5f8-2738-4544-c040-31de403cf51e"
      },
      "execution_count": null,
      "outputs": [
        {
          "output_type": "stream",
          "name": "stdout",
          "text": [
            "         Tmit_City  Sges_City  Rges_City\n",
            "Datum                                   \n",
            "2012-01   6.125806   4.087097   2.006452\n",
            "2012-02   7.758621   2.527586   1.020690\n",
            "2012-03  10.754839   5.758065   1.606452\n",
            "2012-04  10.693333   4.923333   2.816667\n",
            "2012-05  14.277419   7.806452   2.712903\n",
            "...            ...        ...        ...\n",
            "2020-08  17.687097   4.522581   1.758065\n",
            "2020-09  15.470000   6.106667   2.383333\n",
            "2020-10  12.264516   2.741935   1.867742\n",
            "2020-11   9.566667   4.063333   1.263333\n",
            "2020-12   9.300000   3.464516   1.693548\n",
            "\n",
            "[108 rows x 3 columns]\n"
          ]
        }
      ]
    },
    {
      "cell_type": "code",
      "source": [
        "# adding coordinates\n",
        "\n",
        "df_City[\"Latitude\"] = 51.24\n",
        "df_City[\"Longitude\"] = 6.79"
      ],
      "metadata": {
        "id": "pM-Z2_4knoSC"
      },
      "execution_count": null,
      "outputs": []
    },
    {
      "cell_type": "code",
      "source": [
        "print(df_City)"
      ],
      "metadata": {
        "colab": {
          "base_uri": "https://localhost:8080/"
        },
        "id": "SsTSdAuinv4i",
        "outputId": "96d70ba8-e997-4979-ef3b-ca93271f0671"
      },
      "execution_count": null,
      "outputs": [
        {
          "output_type": "stream",
          "name": "stdout",
          "text": [
            "         Tmit_City  Sges_City  Rges_City  Latitude  Longitude\n",
            "Datum                                                        \n",
            "2012-01   6.125806   4.087097   2.006452     51.24       6.79\n",
            "2012-02   7.758621   2.527586   1.020690     51.24       6.79\n",
            "2012-03  10.754839   5.758065   1.606452     51.24       6.79\n",
            "2012-04  10.693333   4.923333   2.816667     51.24       6.79\n",
            "2012-05  14.277419   7.806452   2.712903     51.24       6.79\n",
            "...            ...        ...        ...       ...        ...\n",
            "2020-08  17.687097   4.522581   1.758065     51.24       6.79\n",
            "2020-09  15.470000   6.106667   2.383333     51.24       6.79\n",
            "2020-10  12.264516   2.741935   1.867742     51.24       6.79\n",
            "2020-11   9.566667   4.063333   1.263333     51.24       6.79\n",
            "2020-12   9.300000   3.464516   1.693548     51.24       6.79\n",
            "\n",
            "[108 rows x 5 columns]\n"
          ]
        }
      ]
    },
    {
      "cell_type": "code",
      "source": [
        "df_City.to_csv('df_City.csv', sep=',', index=True, encoding='utf-8')"
      ],
      "metadata": {
        "id": "tKohYTywurvG"
      },
      "execution_count": null,
      "outputs": []
    }
  ]
}